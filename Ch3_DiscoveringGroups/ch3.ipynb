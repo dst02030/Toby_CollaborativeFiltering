{
 "cells": [
  {
   "cell_type": "code",
   "execution_count": null,
   "id": "5a96d118",
   "metadata": {},
   "outputs": [],
   "source": [
    "import clusters\n",
    "blognames, words, data = clusters.readfile('blogdata.txt')\n",
    "clust = clusters.hcluster(data)"
   ]
  },
  {
   "cell_type": "code",
   "execution_count": null,
   "id": "4dba57cf",
   "metadata": {},
   "outputs": [],
   "source": [
    "clusters.printclust(clust, labels = blognames)"
   ]
  },
  {
   "cell_type": "markdown",
   "id": "8c1600ef",
   "metadata": {},
   "source": [
    "### Beautiful Soup"
   ]
  },
  {
   "cell_type": "code",
   "execution_count": null,
   "id": "29a5d216",
   "metadata": {},
   "outputs": [],
   "source": [
    "import urllib3\n",
    "from bs4 import BeautifulSoup\n",
    "\n",
    "c = urllib3.urlopen('http://kiwitobes.com/wiki/Programming_language.html')\n",
    "soup = BeautifulSoup(c.read())\n",
    "\n",
    "links = soup('a')\n",
    "\n",
    "print(links[10])\n",
    "\n",
    "print(links[10]['href'])"
   ]
  }
 ],
 "metadata": {
  "kernelspec": {
   "display_name": "Python 3 (ipykernel)",
   "language": "python",
   "name": "python3"
  },
  "language_info": {
   "codemirror_mode": {
    "name": "ipython",
    "version": 3
   },
   "file_extension": ".py",
   "mimetype": "text/x-python",
   "name": "python",
   "nbconvert_exporter": "python",
   "pygments_lexer": "ipython3",
   "version": "3.9.7"
  }
 },
 "nbformat": 4,
 "nbformat_minor": 5
}

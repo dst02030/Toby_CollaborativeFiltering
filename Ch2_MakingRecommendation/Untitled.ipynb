{
 "cells": [
  {
   "cell_type": "code",
   "execution_count": 1,
   "id": "a6c2f415",
   "metadata": {},
   "outputs": [
    {
     "data": {
      "text/plain": [
       "['C:\\\\Users\\\\LG\\\\Coding\\\\Study\\\\Toby_CollaborativeFiltering\\\\Ch2_MakingRecommendation',\n",
       " 'C:\\\\Users\\\\LG\\\\anaconda3\\\\envs\\\\StHinJ\\\\python39.zip',\n",
       " 'C:\\\\Users\\\\LG\\\\anaconda3\\\\envs\\\\StHinJ\\\\DLLs',\n",
       " 'C:\\\\Users\\\\LG\\\\anaconda3\\\\envs\\\\StHinJ\\\\lib',\n",
       " 'C:\\\\Users\\\\LG\\\\anaconda3\\\\envs\\\\StHinJ',\n",
       " '',\n",
       " 'C:\\\\Users\\\\LG\\\\anaconda3\\\\envs\\\\StHinJ\\\\lib\\\\site-packages',\n",
       " 'C:\\\\Users\\\\LG\\\\anaconda3\\\\envs\\\\StHinJ\\\\lib\\\\site-packages\\\\win32',\n",
       " 'C:\\\\Users\\\\LG\\\\anaconda3\\\\envs\\\\StHinJ\\\\lib\\\\site-packages\\\\win32\\\\lib',\n",
       " 'C:\\\\Users\\\\LG\\\\anaconda3\\\\envs\\\\StHinJ\\\\lib\\\\site-packages\\\\Pythonwin',\n",
       " 'C:\\\\Users\\\\LG\\\\anaconda3\\\\envs\\\\StHinJ\\\\lib\\\\site-packages\\\\IPython\\\\extensions',\n",
       " 'C:\\\\Users\\\\LG\\\\.ipython']"
      ]
     },
     "execution_count": 1,
     "metadata": {},
     "output_type": "execute_result"
    }
   ],
   "source": [
    "import sys\n",
    "sys.path"
   ]
  }
 ],
 "metadata": {
  "kernelspec": {
   "display_name": "Python 3 (ipykernel)",
   "language": "python",
   "name": "python3"
  },
  "language_info": {
   "codemirror_mode": {
    "name": "ipython",
    "version": 3
   },
   "file_extension": ".py",
   "mimetype": "text/x-python",
   "name": "python",
   "nbconvert_exporter": "python",
   "pygments_lexer": "ipython3",
   "version": "3.9.7"
  }
 },
 "nbformat": 4,
 "nbformat_minor": 5
}

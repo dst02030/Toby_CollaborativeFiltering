{
 "cells": [
  {
   "cell_type": "markdown",
   "id": "02e2a624",
   "metadata": {},
   "source": [
    "### The minidom Package"
   ]
  },
  {
   "cell_type": "code",
   "execution_count": 1,
   "id": "0f08508f",
   "metadata": {},
   "outputs": [],
   "source": [
    "import xml.dom.minidom"
   ]
  },
  {
   "cell_type": "code",
   "execution_count": 2,
   "id": "4e4a59cb",
   "metadata": {},
   "outputs": [
    {
     "data": {
      "text/plain": [
       "<xml.dom.minidom.Document at 0x14abe5ad4c0>"
      ]
     },
     "execution_count": 2,
     "metadata": {},
     "output_type": "execute_result"
    }
   ],
   "source": [
    "dom = xml.dom.minidom.parseString('<data><rec>Hello!</rec></data>')\n",
    "dom"
   ]
  },
  {
   "cell_type": "code",
   "execution_count": 3,
   "id": "bd46c7e6",
   "metadata": {},
   "outputs": [
    {
     "data": {
      "text/plain": [
       "[<DOM Element: rec at 0x14abe58c700>]"
      ]
     },
     "execution_count": 3,
     "metadata": {},
     "output_type": "execute_result"
    }
   ],
   "source": [
    "r = dom.getElementsByTagName('rec')\n",
    "r"
   ]
  },
  {
   "cell_type": "code",
   "execution_count": 4,
   "id": "8203b19b",
   "metadata": {},
   "outputs": [
    {
     "data": {
      "text/plain": [
       "<DOM Text node \"'Hello!'\">"
      ]
     },
     "execution_count": 4,
     "metadata": {},
     "output_type": "execute_result"
    }
   ],
   "source": [
    "r[0].firstChild"
   ]
  },
  {
   "cell_type": "code",
   "execution_count": 5,
   "id": "24804ef0",
   "metadata": {},
   "outputs": [
    {
     "data": {
      "text/plain": [
       "'Hello!'"
      ]
     },
     "execution_count": 5,
     "metadata": {},
     "output_type": "execute_result"
    }
   ],
   "source": [
    "r[0].firstChild.data"
   ]
  },
  {
   "cell_type": "code",
   "execution_count": null,
   "id": "39f5401f",
   "metadata": {},
   "outputs": [],
   "source": []
  }
 ],
 "metadata": {
  "kernelspec": {
   "display_name": "Python 3 (ipykernel)",
   "language": "python",
   "name": "python3"
  },
  "language_info": {
   "codemirror_mode": {
    "name": "ipython",
    "version": 3
   },
   "file_extension": ".py",
   "mimetype": "text/x-python",
   "name": "python",
   "nbconvert_exporter": "python",
   "pygments_lexer": "ipython3",
   "version": "3.9.7"
  }
 },
 "nbformat": 4,
 "nbformat_minor": 5
}

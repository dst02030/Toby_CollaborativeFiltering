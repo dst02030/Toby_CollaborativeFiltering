{
 "cells": [
  {
   "cell_type": "code",
   "execution_count": null,
   "id": "939bdac5",
   "metadata": {},
   "outputs": [],
   "source": [
    "import urllib3"
   ]
  },
  {
   "cell_type": "code",
   "execution_count": null,
   "id": "86d5d334",
   "metadata": {},
   "outputs": [],
   "source": [
    "c = urllib3.urlopen('http://kiwitobes.com/wiki/Programming_language.html')\n",
    "contents = c.read()\n",
    "print(contents[:50])"
   ]
  },
  {
   "cell_type": "code",
   "execution_count": null,
   "id": "72ca04bc",
   "metadata": {},
   "outputs": [],
   "source": [
    "import searchengine\n",
    "pagelist = ['http://kiwitobes.com/wiki/Perl.html']\n",
    "crawler = searchengine.crawler('')\n",
    "crawler.crawl(pagelist)"
   ]
  },
  {
   "cell_type": "code",
   "execution_count": null,
   "id": "2512505b",
   "metadata": {},
   "outputs": [],
   "source": [
    "crawler = searchengine.crawler('searchindex.db')\n",
    "crawler.createindextables()"
   ]
  }
 ],
 "metadata": {
  "kernelspec": {
   "display_name": "Python 3 (ipykernel)",
   "language": "python",
   "name": "python3"
  },
  "language_info": {
   "codemirror_mode": {
    "name": "ipython",
    "version": 3
   },
   "file_extension": ".py",
   "mimetype": "text/x-python",
   "name": "python",
   "nbconvert_exporter": "python",
   "pygments_lexer": "ipython3",
   "version": "3.9.7"
  }
 },
 "nbformat": 4,
 "nbformat_minor": 5
}

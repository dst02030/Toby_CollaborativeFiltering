{
 "cells": [
  {
   "cell_type": "code",
   "execution_count": null,
   "id": "5a96d118",
   "metadata": {},
   "outputs": [],
   "source": [
    "import clusters\n",
    "blognames, words, data = clusters.readfile('blogdata.txt')\n",
    "clust = clusters.hcluster(data)"
   ]
  },
  {
   "cell_type": "code",
   "execution_count": null,
   "id": "4dba57cf",
   "metadata": {},
   "outputs": [],
   "source": [
    "clusters.printclust(clust, labels = blognames)"
   ]
  }
 ],
 "metadata": {
  "kernelspec": {
   "display_name": "Python 3 (ipykernel)",
   "language": "python",
   "name": "python3"
  },
  "language_info": {
   "codemirror_mode": {
    "name": "ipython",
    "version": 3
   },
   "file_extension": ".py",
   "mimetype": "text/x-python",
   "name": "python",
   "nbconvert_exporter": "python",
   "pygments_lexer": "ipython3",
   "version": "3.9.7"
  }
 },
 "nbformat": 4,
 "nbformat_minor": 5
}
